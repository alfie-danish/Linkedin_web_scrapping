{
 "cells": [
  {
   "cell_type": "code",
   "execution_count": 6,
   "metadata": {},
   "outputs": [],
   "source": [
    "import pandas as pd"
   ]
  },
  {
   "cell_type": "code",
   "execution_count": 8,
   "metadata": {},
   "outputs": [],
   "source": [
    "df_jobs = pd.read_excel('/Users/alfiedanish/Documents/MyProjects/TechLabs Hackathon/LinkedIn_Job_Sustainabilty.xlsx')"
   ]
  },
  {
   "cell_type": "code",
   "execution_count": 4,
   "metadata": {},
   "outputs": [
    {
     "name": "stdout",
     "output_type": "stream",
     "text": [
      "Enter where do you want to work? London, England, United Kingdom\n",
      "Jobs in London, England, United Kingdom\n"
     ]
    }
   ],
   "source": [
    "location_input = input(\"Enter where do you want to work? \")\n",
    "print(\"Jobs in\", location_input)"
   ]
  },
  {
   "cell_type": "code",
   "execution_count": 5,
   "metadata": {},
   "outputs": [
    {
     "data": {
      "text/html": [
       "<div>\n",
       "<style scoped>\n",
       "    .dataframe tbody tr th:only-of-type {\n",
       "        vertical-align: middle;\n",
       "    }\n",
       "\n",
       "    .dataframe tbody tr th {\n",
       "        vertical-align: top;\n",
       "    }\n",
       "\n",
       "    .dataframe thead th {\n",
       "        text-align: right;\n",
       "    }\n",
       "</style>\n",
       "<table border=\"1\" class=\"dataframe\">\n",
       "  <thead>\n",
       "    <tr style=\"text-align: right;\">\n",
       "      <th></th>\n",
       "      <th>Date</th>\n",
       "      <th>Company</th>\n",
       "      <th>Title</th>\n",
       "      <th>Location</th>\n",
       "      <th>Description</th>\n",
       "      <th>Level</th>\n",
       "      <th>Type</th>\n",
       "      <th>Function</th>\n",
       "      <th>Industry</th>\n",
       "      <th>Link</th>\n",
       "    </tr>\n",
       "  </thead>\n",
       "  <tbody>\n",
       "    <tr>\n",
       "      <th>0</th>\n",
       "      <td>2021-07-23</td>\n",
       "      <td>JAW Sustainability</td>\n",
       "      <td>Junior Sustainability Consultant</td>\n",
       "      <td>London, England, United Kingdom</td>\n",
       "      <td>We are looking for a new Junior Sustainability...</td>\n",
       "      <td>-</td>\n",
       "      <td>Full-time</td>\n",
       "      <td>NaN</td>\n",
       "      <td>NaN</td>\n",
       "      <td>https://uk.linkedin.com/jobs/view/junior-susta...</td>\n",
       "    </tr>\n",
       "    <tr>\n",
       "      <th>1</th>\n",
       "      <td>2021-07-26</td>\n",
       "      <td>IPIECA</td>\n",
       "      <td>Climate Change Coordinator</td>\n",
       "      <td>London, England, United Kingdom</td>\n",
       "      <td>Title: Climate Change Coordinator  Reports to:...</td>\n",
       "      <td>-</td>\n",
       "      <td>Full-time</td>\n",
       "      <td>NaN</td>\n",
       "      <td>NaN</td>\n",
       "      <td>https://uk.linkedin.com/jobs/view/climate-chan...</td>\n",
       "    </tr>\n",
       "    <tr>\n",
       "      <th>2</th>\n",
       "      <td>2021-07-28</td>\n",
       "      <td>Climate Change Professionals</td>\n",
       "      <td>Junior Sustainability Consultant in Orpington, UK</td>\n",
       "      <td>Orpington, England, United Kingdom</td>\n",
       "      <td>We are looking for a Junior Sustainability Con...</td>\n",
       "      <td>Entry level</td>\n",
       "      <td>Full-time</td>\n",
       "      <td>Other</td>\n",
       "      <td>Staffing and Recruiting</td>\n",
       "      <td>https://uk.linkedin.com/jobs/view/junior-susta...</td>\n",
       "    </tr>\n",
       "    <tr>\n",
       "      <th>3</th>\n",
       "      <td>2021-07-28</td>\n",
       "      <td>Climate Change Committee</td>\n",
       "      <td>Priority Projects Analyst for the Climate Chan...</td>\n",
       "      <td>London, England, United Kingdom</td>\n",
       "      <td>This position is based at 151 Buckingham Palac...</td>\n",
       "      <td>Associate</td>\n",
       "      <td>Part-time</td>\n",
       "      <td>Other</td>\n",
       "      <td>Nonprofit Organization Management, Research, a...</td>\n",
       "      <td>https://uk.linkedin.com/jobs/view/priority-pro...</td>\n",
       "    </tr>\n",
       "    <tr>\n",
       "      <th>4</th>\n",
       "      <td>2021-07-23</td>\n",
       "      <td>IPIECA Limited</td>\n",
       "      <td>Climate Change Coordinator</td>\n",
       "      <td>London, England, United Kingdom</td>\n",
       "      <td>IPIECA is seeking an organised, enthusiastic a...</td>\n",
       "      <td>-</td>\n",
       "      <td>Full-time</td>\n",
       "      <td>NaN</td>\n",
       "      <td>NaN</td>\n",
       "      <td>https://uk.linkedin.com/jobs/view/climate-chan...</td>\n",
       "    </tr>\n",
       "  </tbody>\n",
       "</table>\n",
       "</div>"
      ],
      "text/plain": [
       "         Date                       Company  \\\n",
       "0  2021-07-23            JAW Sustainability   \n",
       "1  2021-07-26                        IPIECA   \n",
       "2  2021-07-28  Climate Change Professionals   \n",
       "3  2021-07-28      Climate Change Committee   \n",
       "4  2021-07-23                IPIECA Limited   \n",
       "\n",
       "                                               Title  \\\n",
       "0                   Junior Sustainability Consultant   \n",
       "1                         Climate Change Coordinator   \n",
       "2  Junior Sustainability Consultant in Orpington, UK   \n",
       "3  Priority Projects Analyst for the Climate Chan...   \n",
       "4                         Climate Change Coordinator   \n",
       "\n",
       "                             Location  \\\n",
       "0     London, England, United Kingdom   \n",
       "1     London, England, United Kingdom   \n",
       "2  Orpington, England, United Kingdom   \n",
       "3     London, England, United Kingdom   \n",
       "4     London, England, United Kingdom   \n",
       "\n",
       "                                         Description        Level       Type  \\\n",
       "0  We are looking for a new Junior Sustainability...            -  Full-time   \n",
       "1  Title: Climate Change Coordinator  Reports to:...            -  Full-time   \n",
       "2  We are looking for a Junior Sustainability Con...  Entry level  Full-time   \n",
       "3  This position is based at 151 Buckingham Palac...    Associate  Part-time   \n",
       "4  IPIECA is seeking an organised, enthusiastic a...            -  Full-time   \n",
       "\n",
       "  Function                                           Industry  \\\n",
       "0      NaN                                                NaN   \n",
       "1      NaN                                                NaN   \n",
       "2    Other                            Staffing and Recruiting   \n",
       "3    Other  Nonprofit Organization Management, Research, a...   \n",
       "4      NaN                                                NaN   \n",
       "\n",
       "                                                Link  \n",
       "0  https://uk.linkedin.com/jobs/view/junior-susta...  \n",
       "1  https://uk.linkedin.com/jobs/view/climate-chan...  \n",
       "2  https://uk.linkedin.com/jobs/view/junior-susta...  \n",
       "3  https://uk.linkedin.com/jobs/view/priority-pro...  \n",
       "4  https://uk.linkedin.com/jobs/view/climate-chan...  "
      ]
     },
     "execution_count": 5,
     "metadata": {},
     "output_type": "execute_result"
    }
   ],
   "source": [
    "df_selected_location = df_jobs[df_jobs['Location'] == location_input]\n",
    "df_jobs.head()"
   ]
  },
  {
   "cell_type": "code",
   "execution_count": null,
   "metadata": {},
   "outputs": [],
   "source": []
  }
 ],
 "metadata": {
  "kernelspec": {
   "display_name": "Python 3",
   "language": "python",
   "name": "python3"
  },
  "language_info": {
   "codemirror_mode": {
    "name": "ipython",
    "version": 3
   },
   "file_extension": ".py",
   "mimetype": "text/x-python",
   "name": "python",
   "nbconvert_exporter": "python",
   "pygments_lexer": "ipython3",
   "version": "3.8.5"
  },
  "toc": {
   "base_numbering": 1,
   "nav_menu": {},
   "number_sections": true,
   "sideBar": true,
   "skip_h1_title": false,
   "title_cell": "Table of Contents",
   "title_sidebar": "Contents",
   "toc_cell": false,
   "toc_position": {},
   "toc_section_display": true,
   "toc_window_display": false
  }
 },
 "nbformat": 4,
 "nbformat_minor": 5
}
