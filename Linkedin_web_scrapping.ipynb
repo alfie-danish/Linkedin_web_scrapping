{
 "cells": [
  {
   "cell_type": "code",
   "execution_count": 103,
   "metadata": {},
   "outputs": [],
   "source": [
    "# Import packages\n",
    "from selenium import webdriver\n",
    "import time\n",
    "import pandas as pd\n",
    "from selenium.common.exceptions import NoSuchElementException, ElementClickInterceptedException"
   ]
  },
  {
   "cell_type": "code",
   "execution_count": 104,
   "metadata": {},
   "outputs": [],
   "source": [
    "# Pre-filtered with specific keywords\n",
    "url = \"https://www.linkedin.com/jobs/search?keywords=sustainability%20OR%20renewable\\\n",
    "      %20energy%20OR%20climate%20change%20OR%20environment%20OR%20eco%20friendly&location=United%20Kingdom\\\n",
    "      &geoId=101165590&trk=public_jobs_jobs-search-bar_search-submit&redirect=false&position=1&pageNum=0\""
   ]
  },
  {
   "cell_type": "code",
   "execution_count": 105,
   "metadata": {},
   "outputs": [],
   "source": [
    "# Intitalize chrome driver\n",
    "chrome_driver_path = \"\"\n",
    "wd = webdriver.Chrome(executable_path=chrome_driver_path)\n",
    "wd.get(url)"
   ]
  },
  {
   "cell_type": "code",
   "execution_count": 106,
   "metadata": {},
   "outputs": [
    {
     "name": "stdout",
     "output_type": "stream",
     "text": [
      "222000\n"
     ]
    }
   ],
   "source": [
    "no_of_jobs = int(wd.find_element_by_css_selector(\"h1>span\").get_attribute(\"innerText\").rstrip(\"+\").replace(\",\", \"\"))\n",
    "print(no_of_jobs)"
   ]
  },
  {
   "cell_type": "code",
   "execution_count": 107,
   "metadata": {},
   "outputs": [],
   "source": [
    "# Browse all jobs\n",
    "i = 8800\n",
    "while i <= int(no_of_jobs/25)+1: \n",
    "    wd.execute_script(\"window.scrollTo(0, document.body.scrollHeight);\")\n",
    "    i = i + 1\n",
    "    try:\n",
    "        wd.find_element_by_xpath\n",
    "        (\"/html/body/main/div/section/button\").click()\n",
    "        time.sleep(2)\n",
    "    except:\n",
    "        pass\n",
    "        time.sleep(2)"
   ]
  },
  {
   "cell_type": "code",
   "execution_count": 112,
   "metadata": {},
   "outputs": [],
   "source": [
    "job_lists = wd.find_element_by_class_name(\"jobs-search__results-list\")\n",
    "jobs = job_lists.find_elements_by_tag_name(\"li\") # returns a list"
   ]
  },
  {
   "cell_type": "code",
   "execution_count": 113,
   "metadata": {},
   "outputs": [
    {
     "data": {
      "text/plain": [
       "200"
      ]
     },
     "execution_count": 113,
     "metadata": {},
     "output_type": "execute_result"
    }
   ],
   "source": [
    "len(jobs)"
   ]
  },
  {
   "cell_type": "code",
   "execution_count": 114,
   "metadata": {},
   "outputs": [],
   "source": [
    "# Extract data begins\n",
    "job_title = []\n",
    "company_name = []\n",
    "location = []\n",
    "date = []\n",
    "job_link = []\n",
    "\n",
    "for job in jobs:\n",
    " \n",
    "    job_title0 = job.find_element_by_css_selector(\"h3\").get_attribute(\"innerText\")\n",
    "    job_title.append(job_title0)\n",
    " \n",
    "    company_name0 = job.find_element_by_css_selector(\"h4\").get_attribute(\"innerText\")\n",
    "    company_name.append(company_name0)\n",
    " \n",
    "    location0 = job.find_element_by_css_selector(\"span.job-search-card__location\").get_attribute(\"innerText\")\n",
    "    location.append(location0)\n",
    " \n",
    "    date0 = job.find_element_by_css_selector(\"div>div>time\").get_attribute(\"datetime\")\n",
    "    date.append(date0)\n",
    " \n",
    "    job_link0 = job.find_element_by_css_selector(\"a\").get_attribute(\"href\")\n",
    "    job_link.append(job_link0)"
   ]
  },
  {
   "cell_type": "code",
   "execution_count": 116,
   "metadata": {},
   "outputs": [],
   "source": [
    "jd = []\n",
    "seniority = []\n",
    "emp_type = []\n",
    "job_func = []\n",
    "industries = []\n",
    "\n",
    "for item in range(len(jobs)):\n",
    "    job_func0=[]\n",
    "    industries0=[]\n",
    "    \n",
    "    # Click on job card to view job details\n",
    "    job_click_path = f\"//*[@id='main-content']/section[2]/ul/li[{item+1}]\"\n",
    "    job_click = job.find_element_by_xpath(job_click_path).click()\n",
    "    time.sleep(5)\n",
    " \n",
    "    try:\n",
    "        jd_path = \"/html/body/div[1]/div/section/div[2]/section[2]/div/section/div\"\n",
    "        jd0 = job.find_element_by_xpath(jd_path).get_attribute(\"innerText\")\n",
    "    except NoSuchElementException:\n",
    "        jd0 = \"-\"\n",
    "    finally:\n",
    "        jd.append(jd0)\n",
    "       \n",
    "    try:\n",
    "        seniority_path = \"/html/body/div[1]/div/section/div[2]/section[2]/ul/li[1]/span\"\n",
    "        seniority0 = job.find_element_by_xpath(seniority_path).get_attribute(\"innerText\")\n",
    "    except NoSuchElementException:\n",
    "        seniority0 = \"-\"\n",
    "    finally:\n",
    "        seniority.append(seniority0)\n",
    "    \n",
    "    try:\n",
    "        emp_type_path = \"/html/body/div[1]/div/section/div[2]/section[2]/ul/li[2]/span\"\n",
    "        emp_type0 = job.find_element_by_xpath(emp_type_path).get_attribute(\"innerText\")\n",
    "    except NoSuchElementException:\n",
    "        emp_type0 = \"-\"\n",
    "    finally:\n",
    "        emp_type.append(emp_type0)\n",
    "    \n",
    "    job_func_path = \"/html/body/div[1]/div/section/div[2]/section[2]/ul/li[3]/span\"\n",
    "    job_func_elements = job.find_elements_by_xpath(job_func_path)\n",
    "    for element in job_func_elements:\n",
    "        job_func0.append(element.get_attribute(\"innerText\"))\n",
    "    job_func_final = \", \".join(job_func0)\n",
    "    job_func.append(job_func_final)\n",
    "       \n",
    "    industries_path = \"/html/body/div[1]/div/section/div[2]/section[2]/ul/li[4]/span\"\n",
    "    industries_elements = job.find_elements_by_xpath(industries_path)\n",
    "    for element in industries_elements:\n",
    "        industries0.append(element.get_attribute(\"innerText\"))\n",
    "    industries_final = \", \".join(industries0)\n",
    "    industries.append(industries_final)"
   ]
  },
  {
   "cell_type": "code",
   "execution_count": 117,
   "metadata": {},
   "outputs": [],
   "source": [
    "# Create dataframe\n",
    "job_data = pd.DataFrame({\n",
    "\"Date\": date,\n",
    "\"Company\": company_name,\n",
    "\"Title\": job_title,\n",
    "\"Location\": location,\n",
    "\"Description\": jd,\n",
    "\"Level\": seniority,\n",
    "\"Type\": emp_type,\n",
    "\"Function\": job_func,\n",
    "\"Industry\": industries,\n",
    "\"Link\": job_link\n",
    "})\n",
    "\n",
    "# Download as excel file\n",
    "job_data[\"Description\"] = job_data[\"Description\"].str.replace(\"\\n\",\" \")\n",
    "job_data.to_excel('/Users/alfiedanish/Documents/MyProjects/TechLabs Hackathon/LinkedIn_Job_Sustainabilty3.xlsx', index = False)"
   ]
  },
  {
   "cell_type": "code",
   "execution_count": null,
   "metadata": {},
   "outputs": [],
   "source": []
  }
 ],
 "metadata": {
  "kernelspec": {
   "display_name": "Python 3",
   "language": "python",
   "name": "python3"
  },
  "language_info": {
   "codemirror_mode": {
    "name": "ipython",
    "version": 3
   },
   "file_extension": ".py",
   "mimetype": "text/x-python",
   "name": "python",
   "nbconvert_exporter": "python",
   "pygments_lexer": "ipython3",
   "version": "3.8.5"
  },
  "toc": {
   "base_numbering": 1,
   "nav_menu": {},
   "number_sections": true,
   "sideBar": true,
   "skip_h1_title": false,
   "title_cell": "Table of Contents",
   "title_sidebar": "Contents",
   "toc_cell": false,
   "toc_position": {},
   "toc_section_display": true,
   "toc_window_display": false
  }
 },
 "nbformat": 4,
 "nbformat_minor": 4
}
